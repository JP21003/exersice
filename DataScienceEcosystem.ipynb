{
 "cells": [
  {
   "cell_type": "markdown",
   "id": "ccb0855a-99c5-4b4e-a913-9487e1f8a8bc",
   "metadata": {},
   "source": [
    "# DataScienceEcosystem"
   ]
  },
  {
   "cell_type": "markdown",
   "id": "2035d12c-a692-4669-9eb8-4fd09b8a2c97",
   "metadata": {},
   "source": [
    "## In this notebook, Data science Tools and Ecosystem are summarized."
   ]
  },
  {
   "cell_type": "markdown",
   "id": "89c42ab3-00d8-4d3a-b177-2140dfbfb032",
   "metadata": {},
   "source": [
    "**objetives**\n",
    "1. Python is very useful for Data Science\n",
    "2. Pandas is very popular for data manipulation and analysis\n",
    "3. scikit enables Python to perform to machine learning tasks "
   ]
  },
  {
   "cell_type": "markdown",
   "id": "c3842526-ac60-478e-9008-3519aae52172",
   "metadata": {},
   "source": [
    "Some of the popular languages that Data Scientits use are:\n",
    "1. Python\n",
    "2. Java\n",
    "3. SQL\n",
    "4. Julia\n",
    "5. R"
   ]
  },
  {
   "cell_type": "markdown",
   "id": "b0ac0fd7-89c3-4fd0-a480-1f7b40c8f177",
   "metadata": {},
   "source": [
    "Some of the commonly used libraries used by Data Science include:\n",
    "1. Pandas\n",
    "2. Numpy\n",
    "3. matplotlib\n",
    "4. Scipy"
   ]
  },
  {
   "cell_type": "markdown",
   "id": "f8625674-3fe6-45c7-bfbc-86fb977fda76",
   "metadata": {},
   "source": [
    "\n",
    "|Data Science Tools|\n",
    "|------------------|\n",
    "|jupyter notebook |\n",
    "|github |\n",
    "|RStudio |"
   ]
  },
  {
   "cell_type": "markdown",
   "id": "176f513a-5f43-4b5b-af33-1f700a323550",
   "metadata": {},
   "source": [
    "### Below are a few examples of evaluating aritmetic expressions in Python"
   ]
  },
  {
   "cell_type": "code",
   "execution_count": 2,
   "id": "b5620ff7-5144-40d9-89d3-b70ffe24d406",
   "metadata": {},
   "outputs": [
    {
     "data": {
      "text/plain": [
       "17"
      ]
     },
     "execution_count": 2,
     "metadata": {},
     "output_type": "execute_result"
    }
   ],
   "source": [
    "#This a simple arithmetic expression to multiply the add integers\n",
    "(3*4)+5"
   ]
  },
  {
   "cell_type": "code",
   "execution_count": 4,
   "id": "87962743-bb46-4280-a75b-32ab63262601",
   "metadata": {},
   "outputs": [
    {
     "data": {
      "text/plain": [
       "3.3333333333333335"
      ]
     },
     "execution_count": 4,
     "metadata": {},
     "output_type": "execute_result"
    }
   ],
   "source": [
    "#This will convert 200 minutes to hour by diving by 60\n",
    "200/60"
   ]
  },
  {
   "cell_type": "markdown",
   "id": "830723bd-869e-4ea6-8adc-041d3edb0b52",
   "metadata": {},
   "source": [
    "Author\n",
    "## Juan Pablo Gomez"
   ]
  },
  {
   "cell_type": "code",
   "execution_count": null,
   "id": "95df6e4a-0f94-4b5e-8ca6-51fcd4970fc5",
   "metadata": {},
   "outputs": [],
   "source": []
  }
 ],
 "metadata": {
  "kernelspec": {
   "display_name": "Python 3 (ipykernel)",
   "language": "python",
   "name": "python3"
  },
  "language_info": {
   "codemirror_mode": {
    "name": "ipython",
    "version": 3
   },
   "file_extension": ".py",
   "mimetype": "text/x-python",
   "name": "python",
   "nbconvert_exporter": "python",
   "pygments_lexer": "ipython3",
   "version": "3.12.7"
  }
 },
 "nbformat": 4,
 "nbformat_minor": 5
}
